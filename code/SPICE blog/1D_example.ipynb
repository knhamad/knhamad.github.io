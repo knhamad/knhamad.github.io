{
 "cells": [
  {
   "cell_type": "code",
   "execution_count": 21,
   "metadata": {},
   "outputs": [
    {
     "data": {
      "image/png": "[encoded data removed]",
      "text/plain": [
       "<Figure size 432x288 with 1 Axes>"
      ]
     },
     "metadata": {
      "needs_background": "light"
     },
     "output_type": "display_data"
    }
   ],
   "source": [
    "import numpy as np\n",
    "import matplotlib.pyplot as plt\n",
    "import os\n",
    "import imageio\n",
    "e1=np.array([1])\n",
    "xaxis=np.array([0])\n",
    "x=np.array([1.5,2,2.5,3.5])\n",
    "plt.scatter(e1,xaxis,label='endmember 1')\n",
    "e2=np.array([3])\n",
    "xaxis=np.array([0])\n",
    "plt.scatter(e2,xaxis,label='endmember 2')\n",
    "xaxis=np.array([0,0,0,0])\n",
    "plt.scatter(x,xaxis,label='data')\n",
    "plt.legend()\n",
    "plt.grid()"
   ]
  },
  {
   "cell_type": "code",
   "execution_count": 27,
   "metadata": {},
   "outputs": [
    {
     "data": {
      "text/plain": [
       "array([0.76034414, 3.34379352])"
      ]
     },
     "execution_count": 27,
     "metadata": {},
     "output_type": "execute_result"
    }
   ],
   "source": [
    "x=np.array([1.5,2,2.5,3.5])\n",
    "P=np.zeros((4,2))\n",
    "E=np.array([1,3])\n",
    "for w in range(1):\n",
    "    for i in range(len(x)):\n",
    "        A=np.array([E,[1,1]])\n",
    "        r=np.array([x[i],1])\n",
    "        p=np.linalg.inv(A)@r\n",
    "        P[i,:]=p\n",
    "        P[P>1]=1\n",
    "        P[P<0]=0\n",
    "    mu=0.001\n",
    "    M=2\n",
    "    N=4\n",
    "    lamda= (N*mu)/((M-1)*(1-mu))\n",
    "    E=np.linalg.inv(P.T@P+lamda*(np.eye(M)-(np.ones((M,M))/(M))))@P.T@x\n",
    "E"
   ]
  },
  {
   "cell_type": "code",
   "execution_count": 61,
   "metadata": {},
   "outputs": [],
   "source": [
    "x=np.array([1.5,2,2.5,3.5,4.5,5.5])\n",
    "xaxis=np.array([0,0,0,0,0,0])\n",
    "P=np.zeros((6,2))\n",
    "E=np.array([2.5,3])\n",
    "filenames = []\n",
    "for i in range(10):\n",
    "    \n",
    "    # plot the line chart\n",
    "    plt.plot(np.array([0,1,2,3,4,5,6]),np.array([0,0,0,0,0,0,0]),'|k')\n",
    "    plt.plot(np.array([0,1,2,3,4,5,6]),np.array([0,0,0,0,0,0,0]),'--k')\n",
    "    plt.plot(E[0],np.array([0]),'dr',label='endmember 1')\n",
    "    plt.plot(E[1],np.array([0]),'db',label='endmember 2')\n",
    "    plt.plot(x,xaxis,'xg',label='data')\n",
    "    \n",
    "    plt.legend()\n",
    "    # create file name and append it to a list\n",
    "    filename = f'{i}.png'\n",
    "    filenames.append(filename)\n",
    "    \n",
    "    # save frame\n",
    "    plt.savefig(filename)\n",
    "    plt.close()\n",
    "    for i in range(len(x)):\n",
    "        A=np.array([E,[1,1]])\n",
    "        r=np.array([x[i],1])\n",
    "        p=np.linalg.inv(A)@r\n",
    "        P[i,:]=p\n",
    "        P[P>1]=1\n",
    "        P[P<0]=0\n",
    "    mu=0.001\n",
    "    M=2\n",
    "    N=6\n",
    "    lamda= (N*mu)/((M-1)*(1-mu))\n",
    "    E=np.linalg.inv(P.T@P+lamda*(np.eye(M)-(np.ones((M,M))/(M))))@P.T@x\n",
    "# build gif\n",
    "with imageio.get_writer('mygif.gif', mode='I') as writer:\n",
    "    for filename in filenames:\n",
    "        image = imageio.imread(filename)\n",
    "        writer.append_data(image)\n",
    "        \n",
    "# Remove files\n",
    "for filename in set(filenames):\n",
    "    os.remove(filename)"
   ]
  },
  {
   "cell_type": "code",
   "execution_count": 57,
   "metadata": {},
   "outputs": [
    {
     "data": {
      "text/plain": [
       "array([1.50633225, 5.45306257])"
      ]
     },
     "execution_count": 57,
     "metadata": {},
     "output_type": "execute_result"
    }
   ],
   "source": [
    "E"
   ]
  },
  {
   "cell_type": "code",
   "execution_count": 31,
   "metadata": {},
   "outputs": [
    {
     "data": {
      "text/plain": [
       "array([0.84867173, 3.29079696])"
      ]
     },
     "execution_count": 31,
     "metadata": {},
     "output_type": "execute_result"
    }
   ],
   "source": [
    "mu=0.01\n",
    "M=2\n",
    "N=4\n",
    "x=np.array([1.5,2,2.5,3.5])\n",
    "E=np.array([1,3])\n",
    "P=np.array([[0.75,0.5,0.25,0],[0.25,0.5,0.75,1]]).T\n",
    "P.T@P\n",
    "lamda= (N*mu)/((M-1)*(1-mu))\n",
    "np.linalg.inv(P.T@P+lamda*(np.eye(M)-(np.ones((M,M))/(M))))@P.T@x"
   ]
  },
  {
   "cell_type": "code",
   "execution_count": 43,
   "metadata": {},
   "outputs": [
    {
     "data": {
      "text/plain": [
       "[<matplotlib.lines.Line2D at 0x2d4a0913a48>]"
      ]
     },
     "execution_count": 43,
     "metadata": {},
     "output_type": "execute_result"
    },
    {
     "data": {
      "image/png": "[encoded data removed]",
      "text/plain": [
       "<Figure size 432x288 with 1 Axes>"
      ]
     },
     "metadata": {
      "needs_background": "light"
     },
     "output_type": "display_data"
    }
   ],
   "source": []
  },
  {
   "cell_type": "markdown",
   "metadata": {},
   "source": [
    "Random 2D data"
   ]
  },
  {
   "cell_type": "code",
   "execution_count": 4,
   "metadata": {},
   "outputs": [
    {
     "data": {
      "text/plain": [
       "<matplotlib.legend.Legend at 0x2e926eb49c8>"
      ]
     },
     "execution_count": 4,
     "metadata": {},
     "output_type": "execute_result"
    },
    {
     "data": {
      "image/png": "[encoded data removed]",
      "text/plain": [
       "<Figure size 432x288 with 1 Axes>"
      ]
     },
     "metadata": {
      "needs_background": "light"
     },
     "output_type": "display_data"
    }
   ],
   "source": [
    "data=np.random.rand(50,2)\n",
    "plt.scatter(data[:,0],data[:,1],label='data')\n",
    "plt.scatter(1.25,4,label='endmember 1')\n",
    "plt.scatter(1,-3,label='endmember 2')\n",
    "plt.scatter(-0.5,0,label='endmember 3')\n",
    "plt.legend()"
   ]
  }
 ],
 "metadata": {
  "interpreter": {
   "hash": "93390b0b36b2b0d3fe78ef8552ca0d405b8d63ab2e4ad155ff879ca7bf99d793"
  },
  "kernelspec": {
   "display_name": "Python 3.7.11 ('spice_env')",
   "language": "python",
   "name": "python3"
  },
  "language_info": {
   "codemirror_mode": {
    "name": "ipython",
    "version": 3
   },
   "file_extension": ".py",
   "mimetype": "text/x-python",
   "name": "python",
   "nbconvert_exporter": "python",
   "pygments_lexer": "ipython3",
   "version": "3.7.11"
  },
  "orig_nbformat": 4
 },
 "nbformat": 4,
 "nbformat_minor": 2
}
